{
 "cells": [
  {
   "cell_type": "code",
   "execution_count": 1,
   "metadata": {},
   "outputs": [],
   "source": [
    "import json\n",
    "import requests\n",
    "\n",
    "endpoint_legacy = 'https://wikimedia.org/api/rest_v1/metrics/legacy/pagecounts/aggregate/{project}/{access-site}/{granularity}/{start}/{end}'\n",
    "\n",
    "endpoint_pageviews = 'https://wikimedia.org/api/rest_v1/metrics/pageviews/aggregate/{project}/{access}/{agent}/{granularity}/{start}/{end}'"
   ]
  },
  {
   "cell_type": "code",
   "execution_count": 2,
   "metadata": {},
   "outputs": [],
   "source": [
    "# SAMPLE parameters for getting aggregated legacy view data \n",
    "desktop_params_legacy = {\"project\" : \"en.wikipedia.org\",\n",
    "                 \"access-site\" : \"desktop-site\",\n",
    "                 \"granularity\" : \"monthly\",\n",
    "                 \"start\" : \"2001010100\",\n",
    "                # for end use 1st day of month following final month of data\n",
    "                 \"end\" : \"2018100100\"\n",
    "                    }\n",
    "\n",
    "# SAMPLE parameters for getting aggregated current standard pageview data\n",
    "# see: https://wikimedia.org/api/rest_v1/#!/Pageviews_data/get_metrics_pageviews_aggregate_project_access_agent_granularity_start_end\n",
    "desktop_params_pageviews = {\"project\" : \"en.wikipedia.org\",\n",
    "                    \"access\" : \"desktop\",\n",
    "                    \"agent\" : \"user\",\n",
    "                    \"granularity\" : \"monthly\",\n",
    "                    \"start\" : \"2001010100\",\n",
    "                    # for end use 1st day of month following final month of data\n",
    "                    \"end\" : '2018101000'\n",
    "                        }\n",
    "\n",
    "mobile_params_legacy = {\"project\" : \"en.wikipedia.org\",\n",
    "                 \"access-site\" : \"mobile-site\",\n",
    "                 \"granularity\" : \"monthly\",\n",
    "                 \"start\" : \"2001010100\",\n",
    "                # for end use 1st day of month following final month of data\n",
    "                 \"end\" : \"2018100100\"\n",
    "                    }\n",
    "\n",
    "# SAMPLE parameters for getting aggregated current standard pageview data\n",
    "# see: https://wikimedia.org/api/rest_v1/#!/Pageviews_data/get_metrics_pageviews_aggregate_project_access_agent_granularity_start_end\n",
    "mobile_app_params_pageviews = {\"project\" : \"en.wikipedia.org\",\n",
    "                    \"access\" : \"mobile-app\",\n",
    "                    \"agent\" : \"user\",\n",
    "                    \"granularity\" : \"monthly\",\n",
    "                    \"start\" : \"2001010100\",\n",
    "                    # for end use 1st day of month following final month of data\n",
    "                    \"end\" : '2018101000'\n",
    "                        }\n",
    "\n",
    "mobile_web_params_pageviews = {\"project\" : \"en.wikipedia.org\",\n",
    "                    \"access\" : \"mobile-web\",\n",
    "                    \"agent\" : \"user\",\n",
    "                    \"granularity\" : \"monthly\",\n",
    "                    \"start\" : \"2001010100\",\n",
    "                    # for end use 1st day of month following final month of data\n",
    "                    \"end\" : '2018101000'\n",
    "                        }\n",
    "\n",
    "all_params_legacy = {\"project\" : \"en.wikipedia.org\",\n",
    "                 \"access-site\" : \"all-sites\",\n",
    "                 \"granularity\" : \"monthly\",\n",
    "                 \"start\" : \"2001010100\",\n",
    "                # for end use 1st day of month following final month of data\n",
    "                 \"end\" : \"2018100100\"\n",
    "                    }\n",
    "\n",
    "# SAMPLE parameters for getting aggregated current standard pageview data\n",
    "# see: https://wikimedia.org/api/rest_v1/#!/Pageviews_data/get_metrics_pageviews_aggregate_project_access_agent_granularity_start_end\n",
    "all_params_pageviews = {\"project\" : \"en.wikipedia.org\",\n",
    "                    \"access\" : \"all-access\",\n",
    "                    \"agent\" : \"user\",\n",
    "                    \"granularity\" : \"monthly\",\n",
    "                    \"start\" : \"2001010100\",\n",
    "                    # for end use 1st day of month following final month of data\n",
    "                    \"end\" : '2018101000'\n",
    "                        }\n",
    "\n",
    "# Customize these with your own information\n",
    "headers = {\n",
    "    'User-Agent': 'https://github.com/deepthimhegde',\n",
    "    'From': 'dhegde@uw.edu'\n",
    "}"
   ]
  },
  {
   "cell_type": "code",
   "execution_count": 3,
   "metadata": {},
   "outputs": [],
   "source": [
    "def api_call(endpoint,parameters):\n",
    "    call = requests.get(endpoint.format(**parameters), headers=headers)\n",
    "    response = call.json()\n",
    "    \n",
    "    return response"
   ]
  },
  {
   "cell_type": "code",
   "execution_count": 58,
   "metadata": {},
   "outputs": [],
   "source": [
    "desktop_monthly_pageviews = api_call(endpoint_pageviews, desktop_params_pageviews)\n",
    "desktop_monthly_legacy = api_call(endpoint_legacy, desktop_params_legacy)\n",
    "\n",
    "with open('pageviews_desktop_201507-201809.json', 'w') as outfile:\n",
    "    json.dump(desktop_monthly_pageviews, outfile)\n",
    "with open('pagecounts_desktop-site_200712-201608.json', 'w') as outfile:\n",
    "    json.dump(desktop_monthly_legacy, outfile)\n"
   ]
  },
  {
   "cell_type": "code",
   "execution_count": 59,
   "metadata": {},
   "outputs": [
    {
     "name": "stdout",
     "output_type": "stream",
     "text": [
      "{'project': 'en.wikipedia', 'access': 'desktop', 'agent': 'user', 'granularity': 'monthly', 'timestamp': '2015070100', 'views': 4376666686} {'project': 'en.wikipedia', 'access': 'desktop', 'agent': 'user', 'granularity': 'monthly', 'timestamp': '2018090100', 'views': 3433832231}\n",
      "{'project': 'en.wikipedia', 'access-site': 'desktop-site', 'granularity': 'monthly', 'timestamp': '2007120100', 'count': 2998331524} {'project': 'en.wikipedia', 'access-site': 'desktop-site', 'granularity': 'monthly', 'timestamp': '2016080100', 'count': 913675893}\n"
     ]
    }
   ],
   "source": [
    "print(desktop_monthly_pageviews['items'][0], desktop_monthly_pageviews['items'][-1])\n",
    "print(desktop_monthly_legacy['items'][0], desktop_monthly_legacy['items'][-1])"
   ]
  },
  {
   "cell_type": "code",
   "execution_count": 60,
   "metadata": {},
   "outputs": [],
   "source": [
    "mobile_app_monthly_pageviews = api_call(endpoint_pageviews, mobile_app_params_pageviews)\n",
    "mobile_web_monthly_pageviews = api_call(endpoint_pageviews, mobile_web_params_pageviews)\n",
    "mobile_monthly_legacy = api_call(endpoint_legacy, mobile_params_legacy)\n",
    "\n",
    "with open('pageviews_mobile-app_201507-201809.json', 'w') as outfile:\n",
    "    json.dump(mobile_app_monthly_pageviews, outfile)\n",
    "with open('pageviews_mobile-web_201507-201809.json', 'w') as outfile:\n",
    "    json.dump(mobile_web_monthly_pageviews, outfile)\n",
    "    \n",
    "with open('pagecounts_mobile-site_201410-201809.json', 'w') as outfile:\n",
    "    json.dump(mobile_monthly_legacy, outfile)"
   ]
  },
  {
   "cell_type": "code",
   "execution_count": 61,
   "metadata": {},
   "outputs": [
    {
     "name": "stdout",
     "output_type": "stream",
     "text": [
      "{'project': 'en.wikipedia', 'access': 'mobile-app', 'agent': 'user', 'granularity': 'monthly', 'timestamp': '2015070100', 'views': 109624146} {'project': 'en.wikipedia', 'access': 'mobile-app', 'agent': 'user', 'granularity': 'monthly', 'timestamp': '2018090100', 'views': 123299034}\n",
      "{'project': 'en.wikipedia', 'access': 'mobile-web', 'agent': 'user', 'granularity': 'monthly', 'timestamp': '2015070100', 'views': 3179131148} {'project': 'en.wikipedia', 'access': 'mobile-app', 'agent': 'user', 'granularity': 'monthly', 'timestamp': '2018090100', 'views': 123299034}\n",
      "{'project': 'en.wikipedia', 'access-site': 'mobile-site', 'granularity': 'monthly', 'timestamp': '2014100100', 'count': 3091546685} {'project': 'en.wikipedia', 'access': 'mobile-app', 'agent': 'user', 'granularity': 'monthly', 'timestamp': '2018090100', 'views': 123299034}\n"
     ]
    }
   ],
   "source": [
    "print(mobile_app_monthly_pageviews['items'][0], mobile_app_monthly_pageviews['items'][-1])\n",
    "print(mobile_web_monthly_pageviews['items'][0], mobile_app_monthly_pageviews['items'][-1])\n",
    "\n",
    "print(mobile_monthly_legacy['items'][0], mobile_app_monthly_pageviews['items'][-1])"
   ]
  },
  {
   "cell_type": "code",
   "execution_count": 8,
   "metadata": {},
   "outputs": [],
   "source": [
    "all_monthly_pageviews = api_call(endpoint_pageviews, all_params_pageviews)\n",
    "all_monthly_legacy = api_call(endpoint_legacy, all_params_legacy)"
   ]
  },
  {
   "cell_type": "code",
   "execution_count": 9,
   "metadata": {},
   "outputs": [
    {
     "name": "stdout",
     "output_type": "stream",
     "text": [
      "{'project': 'en.wikipedia', 'access': 'all-access', 'agent': 'user', 'granularity': 'monthly', 'timestamp': '2015070100', 'views': 7665421980}\n",
      "{'project': 'en.wikipedia', 'access-site': 'all-sites', 'granularity': 'monthly', 'timestamp': '2007120100', 'count': 2998331524}\n"
     ]
    }
   ],
   "source": [
    "print(all_monthly_pageviews['items'][0])\n",
    "print(all_monthly_legacy['items'][0])"
   ]
  },
  {
   "cell_type": "code",
   "execution_count": 10,
   "metadata": {},
   "outputs": [
    {
     "name": "stdout",
     "output_type": "stream",
     "text": [
      "39\n",
      "{2007120100: 2998331524, 2008010100: 4930902570, 2008020100: 4818393763, 2008030100: 4955405809, 2008040100: 5159162183, 2008050100: 5584691092, 2008060100: 5712104279, 2008070100: 5306302874, 2008080100: 5140155519, 2008090100: 5479533823, 2008100100: 5679440782, 2008110100: 5415832071, 2008120100: 5211708451, 2009010100: 5802681551, 2009020100: 5547320860, 2009030100: 6295159057, 2009040100: 5988817321, 2009050100: 6267516733, 2009060100: 5818924182, 2009070100: 5801646978, 2009080100: 5790850384, 2009090100: 4057515768, 2009100100: 6016107147, 2009110100: 5768486910, 2009120100: 5426505977, 2010010100: 5703465285, 2010020100: 5762451418, 2010030100: 6661347946, 2010040100: 6618552152, 2010050100: 6410578775, 2010060100: 4898035014, 2010070100: 5296177638, 2010080100: 7381346660, 2010090100: 7546488744, 2010100100: 10172844562, 2010110100: 6948678354, 2010120100: 7001952100, 2011010100: 7568511227, 2011020100: 6906248849, 2011030100: 7326545928, 2011040100: 6835492088, 2011050100: 7009799378, 2011060100: 6536675534, 2011070100: 6571730164, 2011080100: 6514500361, 2011090100: 5837738935, 2011100100: 6974424665, 2011110100: 7507641641, 2011120100: 6396357939, 2012010100: 7808477339, 2012020100: 7530127141, 2012030100: 7358543625, 2012040100: 7220029422, 2012050100: 7784479302, 2012060100: 7524265988, 2012070100: 7819376527, 2012080100: 7885641059, 2012090100: 7913689733, 2012100100: 8379960050, 2012110100: 8219987195, 2012120100: 8033826900, 2013010100: 9126210673, 2013020100: 8100597857, 2013030100: 8701419671, 2013040100: 8049296729, 2013050100: 8089099883, 2013060100: 7759959725, 2013070100: 8237301982, 2013080100: 9306122925, 2013090100: 9985326806, 2013100100: 10775158269, 2013110100: 10414877805, 2013120100: 7102459747, 2014010100: 7026531269, 2014020100: 6718243109, 2014030100: 7464128273, 2014040100: 7216245221, 2014050100: 7543277646, 2014060100: 6577352648, 2014070100: 6761059566, 2014080100: 6687313714, 2014090100: 7564600999, 2014100100: 6577533128, 2014110100: 6153537606, 2014120100: 5830332248, 2015010100: 6103767055, 2015020100: 5602710439, 2015030100: 6346602713, 2015040100: 6198945657, 2015050100: 6323801814, 2015060100: 5165413640, 2015070100: 5229226022, 2015080100: 5035534449, 2015090100: 5409631355, 2015100100: 5535704471, 2015110100: 5296956116, 2015120100: 5264446173, 2016010100: 5569632502, 2016020100: 5347709361, 2016030100: 5407676056, 2016040100: 5572235399, 2016050100: 5330532334, 2016060100: 4975092447, 2016070100: 5363966439, 2016080100: 913675893}\n"
     ]
    }
   ],
   "source": [
    "desktop_pageviews = {}\n",
    "for each in desktop_monthly_pageviews['items']:\n",
    "    desktop_pageviews[int(each['timestamp'])] = each['views']\n",
    "    \n",
    "print(len(desktop_pageviews))\n",
    "    \n",
    "desktop_legacy = {}\n",
    "for each in desktop_monthly_legacy['items']:\n",
    "    desktop_legacy[int(each['timestamp'])] = each['count']\n",
    "    \n",
    "print(desktop_legacy)"
   ]
  },
  {
   "cell_type": "code",
   "execution_count": 11,
   "metadata": {},
   "outputs": [
    {
     "name": "stdout",
     "output_type": "stream",
     "text": [
      "39\n",
      "39\n",
      "{2015070100: 3288755294, 2015080100: 3302333038, 2015090100: 3170203333, 2015100100: 3268499132, 2015110100: 3236601070, 2015120100: 3376275307, 2016010100: 3717836846, 2016020100: 3334862272, 2016030100: 3386684191, 2016040100: 3258764002, 2016050100: 3395033236, 2016060100: 3354790945, 2016070100: 3496573762, 2016080100: 3515819303, 2016090100: 3393285781, 2016100100: 3509283891, 2016110100: 3591044925, 2016120100: 3776543855, 2017010100: 4231961542, 2017020100: 3711761399, 2017030100: 3903493989, 2017040100: 3639623119, 2017050100: 3686687720, 2017060100: 3519383193, 2017070100: 3725059253, 2017080100: 3621406302, 2017090100: 3531604369, 2017100100: 3673120542, 2017110100: 3670012061, 2017120100: 3830136304, 2018010100: 4259282371, 2018020100: 3725680728, 2018030100: 4049874257, 2018040100: 3927398111, 2018050100: 4089188522, 2018060100: 3977766741, 2018070100: 4266113752, 2018080100: 4187362161, 2018090100: 3977120244}\n",
      "{2014100100: 3091546685, 2014110100: 3027489668, 2014120100: 3278950021, 2015010100: 3485302091, 2015020100: 3091534479, 2015030100: 3330832588, 2015040100: 3222089917, 2015050100: 3334069483, 2015060100: 3038162463, 2015070100: 3254472695, 2015080100: 3268487582, 2015090100: 3172429827, 2015100100: 3246082505, 2015110100: 3218234512, 2015120100: 3387411863, 2016010100: 3739628742, 2016020100: 3333231392, 2016030100: 3419853636, 2016040100: 3301385124, 2016050100: 3418435805, 2016060100: 3372618063, 2016070100: 3500661121, 2016080100: 480041296}\n"
     ]
    }
   ],
   "source": [
    "from collections import Counter\n",
    "\n",
    "mobile_app_pageviews = {}\n",
    "for each in mobile_app_monthly_pageviews['items']:\n",
    "    mobile_app_pageviews[int(each['timestamp'])] = each['views']\n",
    "    \n",
    "print(len(mobile_app_pageviews))\n",
    "\n",
    "mobile_web_pageviews = {}\n",
    "for each in mobile_web_monthly_pageviews['items']:\n",
    "    mobile_web_pageviews[int(each['timestamp'])] = each['views']\n",
    "    \n",
    "print(len(mobile_web_pageviews))\n",
    "\n",
    "all_mobile_pageviews = dict( Counter(mobile_app_pageviews) + Counter(mobile_web_pageviews) )\n",
    "print(all_mobile_pageviews)\n",
    "    \n",
    "mobile_legacy = {}\n",
    "for each in mobile_monthly_legacy['items']:\n",
    "    mobile_legacy[int(each['timestamp'])] = each['count']\n",
    "    \n",
    "print(mobile_legacy)"
   ]
  },
  {
   "cell_type": "code",
   "execution_count": 12,
   "metadata": {},
   "outputs": [
    {
     "name": "stdout",
     "output_type": "stream",
     "text": [
      "{2015070100: 7665421980, 2015080100: 7634815221, 2015090100: 7655695037, 2015100100: 7746031887, 2015110100: 7524321290, 2015120100: 7476287344, 2016010100: 8154016303, 2016020100: 7585859457, 2016030100: 7673274617, 2016040100: 7408147859, 2016050100: 7586811330, 2016060100: 7243630656, 2016070100: 7834439589, 2016080100: 8210865519, 2016090100: 7528292279, 2016100100: 7871021581, 2016110100: 7983113161, 2016120100: 7986152433, 2017010100: 8753941940, 2017020100: 7738463562, 2017030100: 8223465891, 2017040100: 7591080111, 2017050100: 7874558299, 2017060100: 7123934190, 2017070100: 7290503797, 2017080100: 7196978615, 2017090100: 7079052261, 2017100100: 7580772181, 2017110100: 7486072984, 2017120100: 7470527400, 2018010100: 8371116060, 2018020100: 7360334422, 2018030100: 8015146182, 2018040100: 7690353530, 2018050100: 7764840918, 2018060100: 7256416175, 2018070100: 7723165341, 2018080100: 7586492950, 2018090100: 7410952475}\n",
      "{2007120100: 2998331524, 2008010100: 4930902570, 2008020100: 4818393763, 2008030100: 4955405809, 2008040100: 5159162183, 2008050100: 5584691092, 2008060100: 5712104279, 2008070100: 5306302874, 2008080100: 5140155519, 2008090100: 5479533823, 2008100100: 5679440782, 2008110100: 5415832071, 2008120100: 5211708451, 2009010100: 5802681551, 2009020100: 5547320860, 2009030100: 6295159057, 2009040100: 5988817321, 2009050100: 6267516733, 2009060100: 5818924182, 2009070100: 5801646978, 2009080100: 5790850384, 2009090100: 4057515768, 2009100100: 6016107147, 2009110100: 5768486910, 2009120100: 5426505977, 2010010100: 5703465285, 2010020100: 5762451418, 2010030100: 6661347946, 2010040100: 6618552152, 2010050100: 6410578775, 2010060100: 4898035014, 2010070100: 5296177638, 2010080100: 7381346660, 2010090100: 7546488744, 2010100100: 10172844562, 2010110100: 6948678354, 2010120100: 7001952100, 2011010100: 7568511227, 2011020100: 6906248849, 2011030100: 7326545928, 2011040100: 6835492088, 2011050100: 7009799378, 2011060100: 6536675534, 2011070100: 6571730164, 2011080100: 6514500361, 2011090100: 5837738935, 2011100100: 6974424665, 2011110100: 7507641641, 2011120100: 6396357939, 2012010100: 7808477339, 2012020100: 7530127141, 2012030100: 7358543625, 2012040100: 7220029422, 2012050100: 7784479302, 2012060100: 7524265988, 2012070100: 7819376527, 2012080100: 7885641059, 2012090100: 7913689733, 2012100100: 8379960050, 2012110100: 8219987195, 2012120100: 8033826900, 2013010100: 9126210673, 2013020100: 8100597857, 2013030100: 8701419671, 2013040100: 8049296729, 2013050100: 8089099883, 2013060100: 7759959725, 2013070100: 8237301982, 2013080100: 9306122925, 2013090100: 9985326806, 2013100100: 10775158269, 2013110100: 10414877805, 2013120100: 7102459747, 2014010100: 7026531269, 2014020100: 6718243109, 2014030100: 7464128273, 2014040100: 7216245221, 2014050100: 7543277646, 2014060100: 6577352648, 2014070100: 6761059566, 2014080100: 6687313714, 2014090100: 7564600999, 2014100100: 9669079813, 2014110100: 9181027274, 2014120100: 9109282269, 2015010100: 9589069146, 2015020100: 8694244918, 2015030100: 9677435301, 2015040100: 9421035574, 2015050100: 9657871297, 2015060100: 8203576103, 2015070100: 8483698717, 2015080100: 8304022031, 2015090100: 8582061182, 2015100100: 8781786976, 2015110100: 8515190628, 2015120100: 8651858036, 2016010100: 9309261244, 2016020100: 8680940753, 2016030100: 8827529692, 2016040100: 8873620523, 2016050100: 8748968139, 2016060100: 8347710510, 2016070100: 8864627560, 2016080100: 1393717189}\n"
     ]
    }
   ],
   "source": [
    "all_pageviews = {}\n",
    "for each in all_monthly_pageviews['items']:\n",
    "    all_pageviews[int(each['timestamp'])] = each['views']\n",
    "    \n",
    "print(all_pageviews)\n",
    "    \n",
    "all_legacy = {}\n",
    "for each in all_monthly_legacy['items']:\n",
    "    all_legacy[int(each['timestamp'])] = each['count']\n",
    "    \n",
    "print(all_legacy)"
   ]
  },
  {
   "cell_type": "code",
   "execution_count": 14,
   "metadata": {},
   "outputs": [],
   "source": [
    "%matplotlib inline"
   ]
  },
  {
   "cell_type": "code",
   "execution_count": 15,
   "metadata": {},
   "outputs": [
    {
     "name": "stderr",
     "output_type": "stream",
     "text": [
      "C:\\Program Files (x86)\\Microsoft Visual Studio\\Shared\\Anaconda3_64\\lib\\site-packages\\ipykernel_launcher.py:11: DeprecationWarning: `spline` is deprecated!\n",
      "spline is deprecated in scipy 0.19.0, use Bspline class instead.\n",
      "  # This is added back by InteractiveShellApp.init_path()\n"
     ]
    },
    {
     "data": {
      "image/png": "[encoded data removed]",
      "text/plain": [
       "<Figure size 432x288 with 1 Axes>"
      ]
     },
     "metadata": {},
     "output_type": "display_data"
    }
   ],
   "source": [
    "import matplotlib.pyplot as plt\n",
    "from scipy.interpolate import spline\n",
    "import numpy as np\n",
    "\n",
    "lists = sorted(all_legacy.items()) # sorted by key, return a list of tuples\n",
    "\n",
    "x, y = zip(*lists) # unpack a list of pairs into two tuples\n",
    "x = np.array(x)\n",
    "xnew = np.linspace(x.min(),x.max(),100) #300 represents number of points to make between T.min and T.max\n",
    "\n",
    "y_smooth = spline(x,y,xnew)\n",
    "plt.plot(xnew, y_smooth)\n",
    "plt.show()"
   ]
  },
  {
   "cell_type": "code",
   "execution_count": 43,
   "metadata": {},
   "outputs": [
    {
     "data": {
      "image/png": "[encoded data removed]",
      "text/plain": [
       "<Figure size 432x288 with 1 Axes>"
      ]
     },
     "metadata": {},
     "output_type": "display_data"
    }
   ],
   "source": [
    "from scipy.interpolate import interp1d\n",
    "\n",
    "x, y = zip(*sorted(desktop_legacy.items())) # unpack a list of pairs into two tuples\n",
    "x = np.array(x)\n",
    "f2 = interp1d(x, y, kind='cubic')\n",
    "xnew = np.linspace(x.min(), x.max(), num=41, endpoint=True)\n",
    "plt.plot(xnew, f2(xnew), 'g--')\n",
    "\n",
    "x, y = zip(*sorted(mobile_legacy.items())) # unpack a list of pairs into two tuples\n",
    "x = np.array(x)\n",
    "f2 = interp1d(x, y, kind='cubic')\n",
    "xnew = np.linspace(x.min(), x.max(), num=41, endpoint=True)\n",
    "plt.plot(xnew, f2(xnew), 'b--')\n",
    "\n",
    "x, y = zip(*sorted(all_legacy.items())) # unpack a list of pairs into two tuples\n",
    "x = np.array(x)\n",
    "f2 = interp1d(x, y, kind='cubic')\n",
    "xnew = np.linspace(x.min(), x.max(), num=41, endpoint=True)\n",
    "plt.plot(xnew, f2(xnew), 'k--')\n",
    "\n",
    "x, y = zip(*sorted(desktop_pageviews.items())) # unpack a list of pairs into two tuples\n",
    "x = np.array(x)\n",
    "f2 = interp1d(x, y, kind='cubic')\n",
    "xnew = np.linspace(x.min(), x.max(), num=41, endpoint=True)\n",
    "plt.plot(xnew, f2(xnew), 'g-')\n",
    "\n",
    "x, y = zip(*sorted(all_mobile_pageviews.items())) # unpack a list of pairs into two tuples\n",
    "x = np.array(x)\n",
    "f2 = interp1d(x, y, kind='cubic')\n",
    "xnew = np.linspace(x.min(), x.max(), num=41, endpoint=True)\n",
    "plt.plot(xnew, f2(xnew), 'b-')\n",
    "\n",
    "x, y = zip(*sorted(all_pageviews.items())) # unpack a list of pairs into two tuples\n",
    "x = np.array(x)\n",
    "f2 = interp1d(x, y, kind='cubic')\n",
    "xnew = np.linspace(x.min(), x.max(), num=41, endpoint=True)\n",
    "plt.plot(xnew, f2(xnew), 'k-', )\n",
    "\n",
    "plt.ylim((0, 200000000000))\n",
    "plt.title('Page Views on English Wikipedia')\n",
    "plt.legend(['main site', 'mobile', 'total'], loc='best')\n",
    "\n",
    "plt.show()"
   ]
  },
  {
   "cell_type": "code",
   "execution_count": 38,
   "metadata": {},
   "outputs": [
    {
     "data": {
      "text/plain": [
       "<Figure size 432x288 with 0 Axes>"
      ]
     },
     "metadata": {},
     "output_type": "display_data"
    }
   ],
   "source": [
    "plt.savefig('trend.png')"
   ]
  },
  {
   "cell_type": "code",
   "execution_count": null,
   "metadata": {},
   "outputs": [],
   "source": []
  }
 ],
 "metadata": {
  "kernelspec": {
   "display_name": "Python 3",
   "language": "python",
   "name": "python3"
  },
  "language_info": {
   "codemirror_mode": {
    "name": "ipython",
    "version": 3
   },
   "file_extension": ".py",
   "mimetype": "text/x-python",
   "name": "python",
   "nbconvert_exporter": "python",
   "pygments_lexer": "ipython3",
   "version": "3.6.5"
  }
 },
 "nbformat": 4,
 "nbformat_minor": 2
}
